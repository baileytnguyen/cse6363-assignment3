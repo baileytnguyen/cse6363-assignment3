{
  "cells": [
    {
      "cell_type": "markdown",
      "metadata": {
        "id": "0U2HphIV3QCO"
      },
      "source": [
        "# Bailey's Deeping Learning Assignment 3"
      ]
    },
    {
      "cell_type": "markdown",
      "metadata": {},
      "source": [
        "## Network 1: Basic CNN"
      ]
    },
    {
      "cell_type": "code",
      "execution_count": 51,
      "metadata": {},
      "outputs": [],
      "source": [
        "# Create basic CNN model using Imagenette dataset\n",
        "import torch\n",
        "from torch import nn\n",
        "import torch.nn.functional as F\n",
        "import lightning as L\n",
        "import torchmetrics\n",
        "\n",
        "\n",
        "class CnnModel(L.LightningModule):\n",
        "    def __init__(self, num_classes=10):\n",
        "        super().__init__()\n",
        "\n",
        "        # use cnn\n",
        "        self.estimator = nn.Sequential(\n",
        "            nn.Conv2d(1, 32, kernel_size=3, stride=1, padding=1),\n",
        "            nn.ReLU(),\n",
        "            nn.MaxPool2d(kernel_size=2, stride=2),\n",
        "            nn.Conv2d(32, 64, kernel_size=3, stride=1, padding=1),\n",
        "            nn.ReLU(),\n",
        "            nn.MaxPool2d(kernel_size=2, stride=2),\n",
        "            nn.Flatten(),\n",
        "            nn.Linear(64 * 16 * 16, 128),\n",
        "            nn.ReLU(),\n",
        "            nn.Linear(128, num_classes),\n",
        "        )\n",
        "\n",
        "        self.accuracy = torchmetrics.Accuracy(\n",
        "            task=\"multiclass\", num_classes=num_classes\n",
        "        )\n",
        "\n",
        "    def forward(self, x):\n",
        "        return self.estimator(x)  # No need to reshape here!\n",
        "\n",
        "    def training_step(self, batch, batch_idx):\n",
        "        x, y = batch\n",
        "        y_hat = self(x)\n",
        "        loss = F.cross_entropy(y_hat, y)\n",
        "\n",
        "        acc = self.accuracy(y_hat, y)\n",
        "\n",
        "        self.log(\"train_loss\", loss, prog_bar=True, on_epoch=True)\n",
        "        self.log(\"train_accuracy\", acc, prog_bar=True, on_epoch=True)\n",
        "        return loss\n",
        "\n",
        "    def validation_step(self, batch, batch_idx):\n",
        "        x, y = batch\n",
        "        y_hat = self(x)\n",
        "        loss = F.cross_entropy(y_hat, y)\n",
        "\n",
        "        self.accuracy(y_hat, y)\n",
        "\n",
        "        # Ensure values are logged at the end of an epoch\n",
        "        self.log(\"val_loss\", loss, on_epoch=True, prog_bar=True, logger=True)\n",
        "        self.log(\n",
        "            \"val_accuracy\", self.accuracy, on_epoch=True, prog_bar=True, logger=True\n",
        "        )\n",
        "\n",
        "    def test_step(self, batch, batch_idx):\n",
        "        x, y = batch\n",
        "        y_hat = self(x)\n",
        "        loss = F.cross_entropy(y_hat, y)\n",
        "\n",
        "        self.accuracy(y_hat, y)\n",
        "\n",
        "        self.log(\"test_accuracy\", self.accuracy)\n",
        "        self.log(\"test_loss\", loss)\n",
        "\n",
        "    def configure_optimizers(self):\n",
        "        optimizer = torch.optim.Adam(self.parameters(), lr=1e-3)\n",
        "        return optimizer\n",
        "\n",
        "    def on_train_end(self):\n",
        "        # Save the model weights\n",
        "        torch.save(self.state_dict(), \"cnn_model_weights.pth\")"
      ]
    },
    {
      "cell_type": "code",
      "execution_count": 52,
      "metadata": {},
      "outputs": [],
      "source": [
        "from torchvision import transforms\n",
        "from torchvision.datasets import Imagenette\n",
        "from lightning.pytorch.callbacks.early_stopping import EarlyStopping\n",
        "from lightning.pytorch.callbacks import ModelCheckpoint\n",
        "\n",
        "\n",
        "# prepare data for cnn taking 64x64 greyscale images\n",
        "cnn_train_transforms = transforms.Compose(\n",
        "    [\n",
        "        transforms.CenterCrop(160),\n",
        "        transforms.Resize(64),\n",
        "        transforms.Grayscale(),  # Move this before ToTensor()\n",
        "        transforms.ToTensor(),\n",
        "        transforms.Normalize((0.5,), (0.5,)),  # Adjust normalization for 1 channel\n",
        "    ]\n",
        ")\n",
        "\n",
        "cnn_test_transforms = transforms.Compose(\n",
        "    [\n",
        "        transforms.CenterCrop(160),\n",
        "        transforms.Resize(64),\n",
        "        transforms.Grayscale(),\n",
        "        transforms.ToTensor(),\n",
        "        transforms.Normalize((0.5,), (0.5,)),\n",
        "    ]\n",
        ")\n",
        "cnn_train_dataset = Imagenette(\n",
        "    \"data/imagenette/train/\",\n",
        "    split=\"train\",\n",
        "    size=\"160px\",\n",
        "    download=False,\n",
        "    transform=cnn_train_transforms,\n",
        ")\n",
        "\n",
        "# Use 10% of the training set for validation\n",
        "cnn_train_set_size = int(len(cnn_train_dataset) * 0.9)\n",
        "cnn_val_set_size = len(cnn_train_dataset) - cnn_train_set_size\n",
        "\n",
        "seed = torch.Generator().manual_seed(42)\n",
        "cnn_train_dataset, cnn_val_dataset = torch.utils.data.random_split(\n",
        "    cnn_train_dataset, [cnn_train_set_size, cnn_val_set_size], generator=seed\n",
        ")\n",
        "cnn_val_dataset.dataset.transform = cnn_test_transforms\n",
        "\n",
        "# Use DataLoader to load the dataset\n",
        "cnn_train_loader = torch.utils.data.DataLoader(\n",
        "    cnn_train_dataset,\n",
        "    batch_size=128,\n",
        "    num_workers=8,\n",
        "    shuffle=True,\n",
        "    persistent_workers=True,\n",
        ")\n",
        "cnn_val_loader = torch.utils.data.DataLoader(\n",
        "    cnn_val_dataset,\n",
        "    batch_size=128,\n",
        "    num_workers=8,\n",
        "    shuffle=False,\n",
        "    persistent_workers=True,\n",
        ")\n",
        "\n",
        "# Configure the test dataset\n",
        "cnn_test_dataset = Imagenette(\n",
        "    \"data/imagenette/test/\",\n",
        "    split=\"val\",\n",
        "    size=\"160px\",\n",
        "    download=False,\n",
        "    transform=cnn_test_transforms,\n",
        ")\n",
        "\n",
        "cnn_model = CnnModel()\n",
        "\n",
        "# Add EarlyStopping\n",
        "cnn_early_stop_callback = EarlyStopping(monitor=\"val_loss\", mode=\"min\", patience=5)\n",
        "\n",
        "# Configure Checkpoints\n",
        "cnn_checkpoint_callback = ModelCheckpoint(monitor=\"val_loss\", mode=\"min\")"
      ]
    },
    {
      "cell_type": "code",
      "execution_count": 53,
      "metadata": {},
      "outputs": [
        {
          "name": "stderr",
          "output_type": "stream",
          "text": [
            "GPU available: True (cuda), used: True\n",
            "TPU available: False, using: 0 TPU cores\n",
            "HPU available: False, using: 0 HPUs\n",
            "LOCAL_RANK: 0 - CUDA_VISIBLE_DEVICES: [0]\n",
            "\n",
            "  | Name      | Type               | Params | Mode \n",
            "---------------------------------------------------------\n",
            "0 | estimator | Sequential         | 2.1 M  | train\n",
            "1 | accuracy  | MulticlassAccuracy | 0      | train\n",
            "---------------------------------------------------------\n",
            "2.1 M     Trainable params\n",
            "0         Non-trainable params\n",
            "2.1 M     Total params\n",
            "8.470     Total estimated model params size (MB)\n",
            "12        Modules in train mode\n",
            "0         Modules in eval mode\n"
          ]
        },
        {
          "name": "stdout",
          "output_type": "stream",
          "text": [
            "Epoch 10: 100%|██████████| 67/67 [00:02<00:00, 27.35it/s, v_num=27, train_loss_step=0.069, train_accuracy_step=0.986, val_loss=2.070, val_accuracy=0.946, train_loss_epoch=0.0709, train_accuracy_epoch=0.990]\n"
          ]
        }
      ],
      "source": [
        "# Train cnn model\n",
        "torch.set_float32_matmul_precision(\"medium\")\n",
        "trainer = L.Trainer(\n",
        "    callbacks=[cnn_early_stop_callback, cnn_checkpoint_callback], max_epochs=100\n",
        ")\n",
        "trainer.fit(\n",
        "    model=cnn_model, train_dataloaders=cnn_train_loader, val_dataloaders=cnn_val_loader\n",
        ")"
      ]
    },
    {
      "cell_type": "code",
      "execution_count": 54,
      "metadata": {},
      "outputs": [
        {
          "name": "stderr",
          "output_type": "stream",
          "text": [
            "LOCAL_RANK: 0 - CUDA_VISIBLE_DEVICES: [0]\n"
          ]
        },
        {
          "name": "stdout",
          "output_type": "stream",
          "text": [
            "Testing DataLoader 0: 100%|██████████| 31/31 [00:00<00:00, 46.24it/s]\n"
          ]
        },
        {
          "data": {
            "text/html": [
              "<pre style=\"white-space:pre;overflow-x:auto;line-height:normal;font-family:Menlo,'DejaVu Sans Mono',consolas,'Courier New',monospace\">┏━━━━━━━━━━━━━━━━━━━━━━━━━━━┳━━━━━━━━━━━━━━━━━━━━━━━━━━━┓\n",
              "┃<span style=\"font-weight: bold\">        Test metric        </span>┃<span style=\"font-weight: bold\">       DataLoader 0        </span>┃\n",
              "┡━━━━━━━━━━━━━━━━━━━━━━━━━━━╇━━━━━━━━━━━━━━━━━━━━━━━━━━━┩\n",
              "│<span style=\"color: #008080; text-decoration-color: #008080\">       test_accuracy       </span>│<span style=\"color: #800080; text-decoration-color: #800080\">    0.5518471598625183     </span>│\n",
              "│<span style=\"color: #008080; text-decoration-color: #008080\">         test_loss         </span>│<span style=\"color: #800080; text-decoration-color: #800080\">    2.1403636932373047     </span>│\n",
              "└───────────────────────────┴───────────────────────────┘\n",
              "</pre>\n"
            ],
            "text/plain": [
              "┏━━━━━━━━━━━━━━━━━━━━━━━━━━━┳━━━━━━━━━━━━━━━━━━━━━━━━━━━┓\n",
              "┃\u001b[1m \u001b[0m\u001b[1m       Test metric       \u001b[0m\u001b[1m \u001b[0m┃\u001b[1m \u001b[0m\u001b[1m      DataLoader 0       \u001b[0m\u001b[1m \u001b[0m┃\n",
              "┡━━━━━━━━━━━━━━━━━━━━━━━━━━━╇━━━━━━━━━━━━━━━━━━━━━━━━━━━┩\n",
              "│\u001b[36m \u001b[0m\u001b[36m      test_accuracy      \u001b[0m\u001b[36m \u001b[0m│\u001b[35m \u001b[0m\u001b[35m   0.5518471598625183    \u001b[0m\u001b[35m \u001b[0m│\n",
              "│\u001b[36m \u001b[0m\u001b[36m        test_loss        \u001b[0m\u001b[36m \u001b[0m│\u001b[35m \u001b[0m\u001b[35m   2.1403636932373047    \u001b[0m\u001b[35m \u001b[0m│\n",
              "└───────────────────────────┴───────────────────────────┘\n"
            ]
          },
          "metadata": {},
          "output_type": "display_data"
        },
        {
          "data": {
            "text/plain": [
              "[{'test_accuracy': 0.5518471598625183, 'test_loss': 2.1403636932373047}]"
            ]
          },
          "execution_count": 54,
          "metadata": {},
          "output_type": "execute_result"
        }
      ],
      "source": [
        "# Evaluate the model on the test set\n",
        "cnn_test_loader = torch.utils.data.DataLoader(\n",
        "    cnn_test_dataset,\n",
        "    batch_size=128,\n",
        "    num_workers=8,\n",
        "    shuffle=False,\n",
        "    persistent_workers=True,\n",
        ")\n",
        "\n",
        "trainer.test(model=cnn_model, dataloaders=cnn_test_loader)"
      ]
    },
    {
      "cell_type": "markdown",
      "metadata": {},
      "source": [
        "## Network 2: ResNet 18"
      ]
    },
    {
      "cell_type": "code",
      "execution_count": 55,
      "metadata": {},
      "outputs": [],
      "source": [
        "# Create a ResNet model using the Imagenette dataset\n",
        "import torchvision.models as models\n",
        "from torchvision.models import ResNet18_Weights\n",
        "import torch\n",
        "from torch import nn\n",
        "import torch.nn.functional as F\n",
        "import lightning as L\n",
        "import torchmetrics\n",
        "\n",
        "\n",
        "class ResNetModel(L.LightningModule):\n",
        "    def __init__(self, num_classes=10):\n",
        "        super().__init__()\n",
        "\n",
        "        # Use pretrained ResNet18 with the updated weights argument\n",
        "        self.estimator = models.resnet18(weights=ResNet18_Weights.DEFAULT)\n",
        "\n",
        "        # Modify the final layer to match the number of classes\n",
        "        self.estimator.fc = nn.Linear(self.estimator.fc.in_features, num_classes)\n",
        "\n",
        "        self.accuracy = torchmetrics.Accuracy(\n",
        "            task=\"multiclass\", num_classes=num_classes\n",
        "        )\n",
        "\n",
        "    def forward(self, x):\n",
        "        return self.estimator(x)\n",
        "\n",
        "    def training_step(self, batch, batch_idx):\n",
        "        x, y = batch\n",
        "        y_hat = self(x)\n",
        "        loss = F.cross_entropy(y_hat, y)\n",
        "\n",
        "        acc = self.accuracy(y_hat, y)\n",
        "\n",
        "        self.log(\"train_loss\", loss, prog_bar=True, on_epoch=True)\n",
        "        self.log(\"train_accuracy\", acc, prog_bar=True, on_epoch=True)\n",
        "        return loss\n",
        "\n",
        "    def validation_step(self, batch, batch_idx):\n",
        "        x, y = batch\n",
        "        y_hat = self(x)\n",
        "        loss = F.cross_entropy(y_hat, y)\n",
        "\n",
        "        self.accuracy(y_hat, y)\n",
        "\n",
        "        # Ensure values are logged at the end of an epoch\n",
        "        self.log(\"val_loss\", loss, on_epoch=True, prog_bar=True, logger=True)\n",
        "        self.log(\n",
        "            \"val_accuracy\", self.accuracy, on_epoch=True, prog_bar=True, logger=True\n",
        "        )\n",
        "\n",
        "    def test_step(self, batch, batch_idx):\n",
        "        x, y = batch\n",
        "        y_hat = self(x)\n",
        "        loss = F.cross_entropy(y_hat, y)\n",
        "\n",
        "        self.accuracy(y_hat, y)\n",
        "\n",
        "        self.log(\"test_accuracy\", self.accuracy)\n",
        "        self.log(\"test_loss\", loss)\n",
        "\n",
        "    def configure_optimizers(self):\n",
        "        optimizer = torch.optim.Adam(self.parameters(), lr=1e-3)\n",
        "        return optimizer\n",
        "\n",
        "    def on_train_end(self):\n",
        "        # Save the model weights\n",
        "        torch.save(self.state_dict(), \"resnet18_model_weights.pth\")"
      ]
    },
    {
      "cell_type": "code",
      "execution_count": 56,
      "metadata": {},
      "outputs": [],
      "source": [
        "from torchvision import transforms\n",
        "from torchvision.datasets import Imagenette\n",
        "from lightning.pytorch.callbacks.early_stopping import EarlyStopping\n",
        "from lightning.pytorch.callbacks import ModelCheckpoint\n",
        "\n",
        "# prepare data for ResNet 18 model taking 64x64 RGB images\n",
        "resnet_train_transforms = transforms.Compose(\n",
        "    [\n",
        "        transforms.CenterCrop(160),\n",
        "        transforms.Resize(64),\n",
        "        transforms.ToTensor(),\n",
        "        transforms.Normalize((0.4914, 0.4822, 0.4465), (0.2470, 0.2435, 0.2616)),\n",
        "    ]\n",
        ")\n",
        "\n",
        "resnet_test_transforms = transforms.Compose(\n",
        "    [\n",
        "        transforms.CenterCrop(160),\n",
        "        transforms.Resize(64),\n",
        "        transforms.ToTensor(),\n",
        "        transforms.Normalize((0.4914, 0.4822, 0.4465), (0.2470, 0.2435, 0.2616)),\n",
        "    ]\n",
        ")\n",
        "\n",
        "resnet_train_dataset = Imagenette(\n",
        "    \"data/imagenette/train/\",\n",
        "    split=\"train\",\n",
        "    size=\"160px\",\n",
        "    download=False,\n",
        "    transform=resnet_train_transforms,\n",
        ")\n",
        "\n",
        "# Use 10% of the training set for validation\n",
        "resnet_train_set_size = int(len(resnet_train_dataset) * 0.9)\n",
        "resnet_val_set_size = len(resnet_train_dataset) - resnet_train_set_size\n",
        "\n",
        "seed = torch.Generator().manual_seed(42)\n",
        "resnet_train_dataset, resnet_val_dataset = torch.utils.data.random_split(\n",
        "    resnet_train_dataset, [resnet_train_set_size, resnet_val_set_size], generator=seed\n",
        ")\n",
        "resnet_val_dataset.dataset.transform = resnet_test_transforms\n",
        "\n",
        "# Use DataLoader to load the dataset\n",
        "resnet_train_loader = torch.utils.data.DataLoader(\n",
        "    resnet_train_dataset,\n",
        "    batch_size=128,\n",
        "    num_workers=8,\n",
        "    shuffle=True,\n",
        "    persistent_workers=True,\n",
        ")\n",
        "resnet_val_loader = torch.utils.data.DataLoader(\n",
        "    resnet_val_dataset,\n",
        "    batch_size=128,\n",
        "    num_workers=8,\n",
        "    shuffle=False,\n",
        "    persistent_workers=True,\n",
        ")\n",
        "\n",
        "# Configure the test dataset\n",
        "resnet_test_dataset = Imagenette(\n",
        "    \"data/imagenette/test/\",\n",
        "    split=\"val\",\n",
        "    size=\"160px\",\n",
        "    download=False,\n",
        "    transform=resnet_test_transforms,\n",
        ")\n",
        "\n",
        "resnet_model = ResNetModel()\n",
        "\n",
        "# Add EarlyStopping\n",
        "resnet_early_stop_callback = EarlyStopping(monitor=\"val_loss\", mode=\"min\", patience=5)\n",
        "\n",
        "# Configure Checkpoints\n",
        "resnet_checkpoint_callback = ModelCheckpoint(monitor=\"val_loss\", mode=\"min\")"
      ]
    },
    {
      "cell_type": "code",
      "execution_count": 57,
      "metadata": {},
      "outputs": [
        {
          "name": "stderr",
          "output_type": "stream",
          "text": [
            "GPU available: True (cuda), used: True\n",
            "TPU available: False, using: 0 TPU cores\n",
            "HPU available: False, using: 0 HPUs\n",
            "LOCAL_RANK: 0 - CUDA_VISIBLE_DEVICES: [0]\n",
            "\n",
            "  | Name      | Type               | Params | Mode \n",
            "---------------------------------------------------------\n",
            "0 | estimator | ResNet             | 11.2 M | train\n",
            "1 | accuracy  | MulticlassAccuracy | 0      | train\n",
            "---------------------------------------------------------\n",
            "11.2 M    Trainable params\n",
            "0         Non-trainable params\n",
            "11.2 M    Total params\n",
            "44.727    Total estimated model params size (MB)\n",
            "69        Modules in train mode\n",
            "0         Modules in eval mode\n"
          ]
        },
        {
          "name": "stdout",
          "output_type": "stream",
          "text": [
            "Epoch 5: 100%|██████████| 67/67 [00:02<00:00, 29.30it/s, v_num=28, train_loss_step=0.186, train_accuracy_step=0.946, val_loss=1.010, val_accuracy=0.949, train_loss_epoch=0.102, train_accuracy_epoch=0.968] \n"
          ]
        }
      ],
      "source": [
        "# Train ResNet model\n",
        "torch.set_float32_matmul_precision(\"medium\")\n",
        "\n",
        "trainer = L.Trainer(\n",
        "    callbacks=[resnet_early_stop_callback, resnet_checkpoint_callback], max_epochs=100\n",
        ")\n",
        "\n",
        "trainer.fit(\n",
        "    model=resnet_model,\n",
        "    train_dataloaders=resnet_train_loader,\n",
        "    val_dataloaders=resnet_val_loader,\n",
        ")"
      ]
    },
    {
      "cell_type": "code",
      "execution_count": 58,
      "metadata": {},
      "outputs": [
        {
          "name": "stderr",
          "output_type": "stream",
          "text": [
            "LOCAL_RANK: 0 - CUDA_VISIBLE_DEVICES: [0]\n"
          ]
        },
        {
          "name": "stdout",
          "output_type": "stream",
          "text": [
            "Testing DataLoader 0: 100%|██████████| 31/31 [00:00<00:00, 55.15it/s]\n"
          ]
        },
        {
          "data": {
            "text/html": [
              "<pre style=\"white-space:pre;overflow-x:auto;line-height:normal;font-family:Menlo,'DejaVu Sans Mono',consolas,'Courier New',monospace\">┏━━━━━━━━━━━━━━━━━━━━━━━━━━━┳━━━━━━━━━━━━━━━━━━━━━━━━━━━┓\n",
              "┃<span style=\"font-weight: bold\">        Test metric        </span>┃<span style=\"font-weight: bold\">       DataLoader 0        </span>┃\n",
              "┡━━━━━━━━━━━━━━━━━━━━━━━━━━━╇━━━━━━━━━━━━━━━━━━━━━━━━━━━┩\n",
              "│<span style=\"color: #008080; text-decoration-color: #008080\">       test_accuracy       </span>│<span style=\"color: #800080; text-decoration-color: #800080\">    0.7824203968048096     </span>│\n",
              "│<span style=\"color: #008080; text-decoration-color: #008080\">         test_loss         </span>│<span style=\"color: #800080; text-decoration-color: #800080\">    0.9942476749420166     </span>│\n",
              "└───────────────────────────┴───────────────────────────┘\n",
              "</pre>\n"
            ],
            "text/plain": [
              "┏━━━━━━━━━━━━━━━━━━━━━━━━━━━┳━━━━━━━━━━━━━━━━━━━━━━━━━━━┓\n",
              "┃\u001b[1m \u001b[0m\u001b[1m       Test metric       \u001b[0m\u001b[1m \u001b[0m┃\u001b[1m \u001b[0m\u001b[1m      DataLoader 0       \u001b[0m\u001b[1m \u001b[0m┃\n",
              "┡━━━━━━━━━━━━━━━━━━━━━━━━━━━╇━━━━━━━━━━━━━━━━━━━━━━━━━━━┩\n",
              "│\u001b[36m \u001b[0m\u001b[36m      test_accuracy      \u001b[0m\u001b[36m \u001b[0m│\u001b[35m \u001b[0m\u001b[35m   0.7824203968048096    \u001b[0m\u001b[35m \u001b[0m│\n",
              "│\u001b[36m \u001b[0m\u001b[36m        test_loss        \u001b[0m\u001b[36m \u001b[0m│\u001b[35m \u001b[0m\u001b[35m   0.9942476749420166    \u001b[0m\u001b[35m \u001b[0m│\n",
              "└───────────────────────────┴───────────────────────────┘\n"
            ]
          },
          "metadata": {},
          "output_type": "display_data"
        },
        {
          "data": {
            "text/plain": [
              "[{'test_accuracy': 0.7824203968048096, 'test_loss': 0.9942476749420166}]"
            ]
          },
          "execution_count": 58,
          "metadata": {},
          "output_type": "execute_result"
        }
      ],
      "source": [
        "# Evaluate the model on the test set\n",
        "restnet_test_loader = torch.utils.data.DataLoader(\n",
        "    resnet_test_dataset,\n",
        "    batch_size=128,\n",
        "    num_workers=8,\n",
        "    shuffle=False,\n",
        "    persistent_workers=True,\n",
        ")\n",
        "\n",
        "trainer.test(model=resnet_model, dataloaders=restnet_test_loader)"
      ]
    },
    {
      "cell_type": "markdown",
      "metadata": {},
      "source": [
        "## CNN with Dropout"
      ]
    },
    {
      "cell_type": "code",
      "execution_count": 59,
      "metadata": {},
      "outputs": [],
      "source": [
        "import torch\n",
        "from torch import nn\n",
        "import torch.nn.functional as F\n",
        "import lightning as L\n",
        "import torchmetrics\n",
        "\n",
        "\n",
        "class CnnModelWithDropout(L.LightningModule):\n",
        "    def __init__(self, num_classes=10):\n",
        "        super().__init__()\n",
        "\n",
        "        # use cnn with dropout\n",
        "        self.estimator = nn.Sequential(\n",
        "            nn.Conv2d(1, 32, kernel_size=3, stride=1, padding=1),\n",
        "            nn.ReLU(),\n",
        "            nn.MaxPool2d(kernel_size=2, stride=2),\n",
        "            nn.Dropout(0.1),  # Add dropout layer\n",
        "            nn.Conv2d(32, 64, kernel_size=3, stride=1, padding=1),\n",
        "            nn.ReLU(),\n",
        "            nn.MaxPool2d(kernel_size=2, stride=2),\n",
        "            nn.Dropout(0.1),  # Add dropout layer\n",
        "            nn.Flatten(),\n",
        "            nn.Linear(64 * 16 * 16, 128),\n",
        "            nn.ReLU(),\n",
        "            nn.Dropout(0.1),  # Add dropout layer\n",
        "            nn.Linear(128, num_classes),\n",
        "        )\n",
        "\n",
        "        self.accuracy = torchmetrics.Accuracy(\n",
        "            task=\"multiclass\", num_classes=num_classes\n",
        "        )\n",
        "\n",
        "    def forward(self, x):\n",
        "        return self.estimator(x)  # No need to reshape here!\n",
        "\n",
        "    def training_step(self, batch, batch_idx):\n",
        "        x, y = batch\n",
        "        y_hat = self(x)\n",
        "        loss = F.cross_entropy(y_hat, y)\n",
        "\n",
        "        acc = self.accuracy(y_hat, y)\n",
        "        self.log(\"train_loss\", loss, prog_bar=True, on_epoch=True)\n",
        "        self.log(\"train_accuracy\", acc, prog_bar=True, on_epoch=True)\n",
        "        return loss\n",
        "\n",
        "    def validation_step(self, batch, batch_idx):\n",
        "        x, y = batch\n",
        "        y_hat = self(x)\n",
        "        loss = F.cross_entropy(y_hat, y)\n",
        "\n",
        "        self.accuracy(y_hat, y)\n",
        "\n",
        "        # Ensure values are logged at the end of an epoch\n",
        "        self.log(\"val_loss\", loss, on_epoch=True, prog_bar=True, logger=True)\n",
        "        self.log(\n",
        "            \"val_accuracy\", self.accuracy, on_epoch=True, prog_bar=True, logger=True\n",
        "        )\n",
        "\n",
        "    def test_step(self, batch, batch_idx):\n",
        "        x, y = batch\n",
        "        y_hat = self(x)\n",
        "        loss = F.cross_entropy(y_hat, y)\n",
        "\n",
        "        self.accuracy(y_hat, y)\n",
        "\n",
        "        self.log(\"test_accuracy\", self.accuracy)\n",
        "        self.log(\"test_loss\", loss)\n",
        "\n",
        "    def configure_optimizers(self):\n",
        "        optimizer = torch.optim.Adam(self.parameters(), lr=1e-3)\n",
        "        return optimizer\n",
        "\n",
        "    def on_train_end(self):\n",
        "        # Save the model weights\n",
        "        torch.save(self.state_dict(), \"cnn_dropout_model_weights.pth\")"
      ]
    },
    {
      "cell_type": "code",
      "execution_count": 60,
      "metadata": {},
      "outputs": [],
      "source": [
        "# prepare data for cnn with dropout taking 64x64 greyscale images\n",
        "cnn_dropout_train_transforms = transforms.Compose(\n",
        "    [\n",
        "        transforms.CenterCrop(160),\n",
        "        transforms.Resize(64),\n",
        "        transforms.Grayscale(),  # Move this before ToTensor()\n",
        "        transforms.ToTensor(),\n",
        "        transforms.Normalize((0.5,), (0.5,)),  # Adjust normalization for 1 channel\n",
        "    ]\n",
        ")\n",
        "\n",
        "cnn_dropout_test_transforms = transforms.Compose(\n",
        "    [\n",
        "        transforms.CenterCrop(160),\n",
        "        transforms.Resize(64),\n",
        "        transforms.Grayscale(),\n",
        "        transforms.ToTensor(),\n",
        "        transforms.Normalize((0.5,), (0.5,)),\n",
        "    ]\n",
        ")\n",
        "cnn_dropout_train_dataset = Imagenette(\n",
        "    \"data/imagenette/train/\",\n",
        "    split=\"train\",\n",
        "    size=\"160px\",\n",
        "    download=False,\n",
        "    transform=cnn_dropout_train_transforms,\n",
        ")\n",
        "\n",
        "# Use 10% of the training set for validation\n",
        "cnn_dropout_train_set_size = int(len(cnn_dropout_train_dataset) * 0.9)\n",
        "cnn_dropout_val_set_size = len(cnn_dropout_train_dataset) - cnn_dropout_train_set_size\n",
        "\n",
        "cnn_dropout_train_dataset, cnn_dropout_val_dataset = torch.utils.data.random_split(\n",
        "    cnn_dropout_train_dataset,\n",
        "    [cnn_dropout_train_set_size, cnn_dropout_val_set_size],\n",
        "    generator=seed,\n",
        ")\n",
        "cnn_dropout_val_dataset.dataset.transform = cnn_dropout_test_transforms\n",
        "\n",
        "# Use DataLoader to load the dataset\n",
        "cnn_dropout_train_loader = torch.utils.data.DataLoader(\n",
        "    cnn_dropout_train_dataset,\n",
        "    batch_size=128,\n",
        "    num_workers=8,\n",
        "    shuffle=True,\n",
        "    persistent_workers=True,\n",
        ")\n",
        "cnn_dropout_val_loader = torch.utils.data.DataLoader(\n",
        "    cnn_dropout_val_dataset,\n",
        "    batch_size=128,\n",
        "    num_workers=8,\n",
        "    shuffle=False,\n",
        "    persistent_workers=True,\n",
        ")\n",
        "\n",
        "# Configure the test dataset\n",
        "cnn_dropout_test_dataset = Imagenette(\n",
        "    \"data/imagenette/test/\",\n",
        "    split=\"val\",\n",
        "    size=\"160px\",\n",
        "    download=False,\n",
        "    transform=cnn_dropout_test_transforms,\n",
        ")\n",
        "\n",
        "cnn_dropout_model = CnnModelWithDropout()\n",
        "\n",
        "# Add EarlyStopping\n",
        "cnn_dropout_early_stop_callback = EarlyStopping(\n",
        "    monitor=\"val_loss\", mode=\"min\", patience=5\n",
        ")\n",
        "\n",
        "# Configure Checkpoints\n",
        "cnn_dropout_checkpoint_callback = ModelCheckpoint(monitor=\"val_loss\", mode=\"min\")"
      ]
    },
    {
      "cell_type": "code",
      "execution_count": 61,
      "metadata": {},
      "outputs": [
        {
          "name": "stderr",
          "output_type": "stream",
          "text": [
            "GPU available: True (cuda), used: True\n",
            "TPU available: False, using: 0 TPU cores\n",
            "HPU available: False, using: 0 HPUs\n",
            "LOCAL_RANK: 0 - CUDA_VISIBLE_DEVICES: [0]\n",
            "\n",
            "  | Name      | Type               | Params | Mode \n",
            "---------------------------------------------------------\n",
            "0 | estimator | Sequential         | 2.1 M  | train\n",
            "1 | accuracy  | MulticlassAccuracy | 0      | train\n",
            "---------------------------------------------------------\n",
            "2.1 M     Trainable params\n",
            "0         Non-trainable params\n",
            "2.1 M     Total params\n",
            "8.470     Total estimated model params size (MB)\n",
            "15        Modules in train mode\n",
            "0         Modules in eval mode\n"
          ]
        },
        {
          "name": "stdout",
          "output_type": "stream",
          "text": [
            "Epoch 11: 100%|██████████| 67/67 [00:01<00:00, 36.41it/s, v_num=29, train_loss_step=0.303, train_accuracy_step=0.905, val_loss=1.730, val_accuracy=0.868, train_loss_epoch=0.316, train_accuracy_epoch=0.903]\n"
          ]
        }
      ],
      "source": [
        "# Train cnn model with dropout\n",
        "torch.set_float32_matmul_precision(\"medium\")\n",
        "\n",
        "trainer = L.Trainer(\n",
        "    callbacks=[cnn_dropout_early_stop_callback, cnn_dropout_checkpoint_callback],\n",
        "    max_epochs=100,\n",
        ")\n",
        "\n",
        "trainer.fit(\n",
        "    model=cnn_dropout_model,\n",
        "    train_dataloaders=cnn_dropout_train_loader,\n",
        "    val_dataloaders=cnn_dropout_val_loader,\n",
        ")"
      ]
    },
    {
      "cell_type": "code",
      "execution_count": 62,
      "metadata": {},
      "outputs": [
        {
          "name": "stderr",
          "output_type": "stream",
          "text": [
            "LOCAL_RANK: 0 - CUDA_VISIBLE_DEVICES: [0]\n"
          ]
        },
        {
          "name": "stdout",
          "output_type": "stream",
          "text": [
            "Testing DataLoader 0: 100%|██████████| 31/31 [00:00<00:00, 47.63it/s]\n"
          ]
        },
        {
          "data": {
            "text/html": [
              "<pre style=\"white-space:pre;overflow-x:auto;line-height:normal;font-family:Menlo,'DejaVu Sans Mono',consolas,'Courier New',monospace\">┏━━━━━━━━━━━━━━━━━━━━━━━━━━━┳━━━━━━━━━━━━━━━━━━━━━━━━━━━┓\n",
              "┃<span style=\"font-weight: bold\">        Test metric        </span>┃<span style=\"font-weight: bold\">       DataLoader 0        </span>┃\n",
              "┡━━━━━━━━━━━━━━━━━━━━━━━━━━━╇━━━━━━━━━━━━━━━━━━━━━━━━━━━┩\n",
              "│<span style=\"color: #008080; text-decoration-color: #008080\">       test_accuracy       </span>│<span style=\"color: #800080; text-decoration-color: #800080\">    0.5503184795379639     </span>│\n",
              "│<span style=\"color: #008080; text-decoration-color: #008080\">         test_loss         </span>│<span style=\"color: #800080; text-decoration-color: #800080\">    1.7276387214660645     </span>│\n",
              "└───────────────────────────┴───────────────────────────┘\n",
              "</pre>\n"
            ],
            "text/plain": [
              "┏━━━━━━━━━━━━━━━━━━━━━━━━━━━┳━━━━━━━━━━━━━━━━━━━━━━━━━━━┓\n",
              "┃\u001b[1m \u001b[0m\u001b[1m       Test metric       \u001b[0m\u001b[1m \u001b[0m┃\u001b[1m \u001b[0m\u001b[1m      DataLoader 0       \u001b[0m\u001b[1m \u001b[0m┃\n",
              "┡━━━━━━━━━━━━━━━━━━━━━━━━━━━╇━━━━━━━━━━━━━━━━━━━━━━━━━━━┩\n",
              "│\u001b[36m \u001b[0m\u001b[36m      test_accuracy      \u001b[0m\u001b[36m \u001b[0m│\u001b[35m \u001b[0m\u001b[35m   0.5503184795379639    \u001b[0m\u001b[35m \u001b[0m│\n",
              "│\u001b[36m \u001b[0m\u001b[36m        test_loss        \u001b[0m\u001b[36m \u001b[0m│\u001b[35m \u001b[0m\u001b[35m   1.7276387214660645    \u001b[0m\u001b[35m \u001b[0m│\n",
              "└───────────────────────────┴───────────────────────────┘\n"
            ]
          },
          "metadata": {},
          "output_type": "display_data"
        },
        {
          "data": {
            "text/plain": [
              "[{'test_accuracy': 0.5503184795379639, 'test_loss': 1.7276387214660645}]"
            ]
          },
          "execution_count": 62,
          "metadata": {},
          "output_type": "execute_result"
        }
      ],
      "source": [
        "# Evaluate the model on the test set\n",
        "cnn_dropout_test_loader = torch.utils.data.DataLoader(\n",
        "    cnn_dropout_test_dataset,\n",
        "    batch_size=128,\n",
        "    num_workers=8,\n",
        "    shuffle=False,\n",
        "    persistent_workers=True,\n",
        ")\n",
        "\n",
        "trainer.test(model=cnn_dropout_model, dataloaders=cnn_dropout_test_loader)"
      ]
    },
    {
      "cell_type": "markdown",
      "metadata": {},
      "source": [
        "## Transfer Learning on CIFAR10 Using ResNet18 Model"
      ]
    },
    {
      "cell_type": "code",
      "execution_count": 63,
      "metadata": {},
      "outputs": [],
      "source": [
        "import torch\n",
        "import torch.nn as nn\n",
        "import torch.optim as optim\n",
        "from torchvision import transforms\n",
        "from torchvision.datasets import CIFAR10\n",
        "import lightning.pytorch as pl\n",
        "import torchmetrics\n",
        "import matplotlib.pyplot as plt\n",
        "\n",
        "train_losses = []\n",
        "val_losses = []\n",
        "val_accuracies = []\n",
        "\n",
        "\n",
        "class ResNetTransferLearningModel(pl.LightningModule):\n",
        "    def __init__(self, data_path, batch_size=128, lr=1e-3):\n",
        "        super().__init__()\n",
        "\n",
        "        self.data_path = data_path\n",
        "        self.batch_size = batch_size\n",
        "        self.lr = lr\n",
        "\n",
        "        # Load CIFAR-10 dataset\n",
        "        dataset = CIFAR10(\n",
        "            data_path,\n",
        "            transform=transforms.Compose(\n",
        "                [\n",
        "                    transforms.Resize(64),  # Match ResNet input size\n",
        "                    transforms.ToTensor(),\n",
        "                    transforms.Normalize((0.5, 0.5, 0.5), (0.5, 0.5, 0.5)),\n",
        "                ]\n",
        "            ),\n",
        "            download=True,\n",
        "        )\n",
        "\n",
        "        dataset_size = len(dataset)\n",
        "        train_size = int(dataset_size * 0.9)\n",
        "        val_size = dataset_size - train_size\n",
        "\n",
        "        self.train_dataset, self.val_dataset = torch.utils.data.random_split(\n",
        "            dataset, [train_size, val_size]\n",
        "        )\n",
        "\n",
        "        # Load CIFAR-10 test dataset\n",
        "        self.test_dataset = CIFAR10(\n",
        "            data_path,\n",
        "            train=False,  # Set train to False to load the test set\n",
        "            transform=transforms.Compose(\n",
        "                [\n",
        "                    transforms.Resize(64),  # Match ResNet input size\n",
        "                    transforms.ToTensor(),\n",
        "                    transforms.Normalize((0.5, 0.5, 0.5), (0.5, 0.5, 0.5)),\n",
        "                ]\n",
        "            ),\n",
        "            download=True,\n",
        "        )\n",
        "\n",
        "        # Use pre-trained ResNet model\n",
        "        self.estimator = resnet_model.estimator\n",
        "\n",
        "        # Modify the final layer to match the number of classes in CIFAR-10\n",
        "        num_ftrs = self.estimator.fc.in_features\n",
        "        self.estimator.fc = nn.Linear(num_ftrs, 10)\n",
        "\n",
        "        # Loss & Accuracy\n",
        "        self.loss_fn = nn.CrossEntropyLoss()\n",
        "        self.accuracy = torchmetrics.Accuracy(task=\"multiclass\", num_classes=10)\n",
        "\n",
        "    def forward(self, x):\n",
        "        return self.estimator(x)\n",
        "\n",
        "    def training_step(self, batch, batch_idx):\n",
        "        x, y = batch\n",
        "        y_hat = self(x)\n",
        "        loss = self.loss_fn(y_hat, y)\n",
        "\n",
        "        train_losses.append(loss.item())  # Store loss for plotting\n",
        "\n",
        "        self.log(\"train_loss\", loss, prog_bar=True, on_epoch=True)\n",
        "        self.log(\n",
        "            \"train_accuracy\", self.accuracy(y_hat, y), prog_bar=True, on_epoch=True\n",
        "        )\n",
        "\n",
        "        return loss\n",
        "\n",
        "    def validation_step(self, batch, batch_idx):\n",
        "        x, y = batch\n",
        "        y_hat = self(x)\n",
        "        loss = self.loss_fn(y_hat, y)\n",
        "        acc = self.accuracy(y_hat, y)\n",
        "\n",
        "        val_losses.append(loss.item())  # Store val loss\n",
        "        val_accuracies.append(acc.item())  # Store val accuracy\n",
        "\n",
        "        self.log(\"val_loss\", loss, on_epoch=True, prog_bar=True, logger=True)\n",
        "        self.log(\"val_accuracy\", acc, on_epoch=True, prog_bar=True, logger=True)\n",
        "\n",
        "    def test_step(self, batch, batch_idx):\n",
        "        x, y = batch\n",
        "        y_hat = self(x)\n",
        "        loss = self.loss_fn(y_hat, y)\n",
        "        acc = self.accuracy(y_hat, y)\n",
        "\n",
        "        self.log(\"test_loss\", loss, on_epoch=True, prog_bar=True, logger=True)\n",
        "        self.log(\"test_accuracy\", acc, on_epoch=True, prog_bar=True, logger=True)\n",
        "\n",
        "    def on_train_end(self):\n",
        "\n",
        "        # Save the model weights\n",
        "        torch.save(self.state_dict(), \"resnet_transfer_model_weights.pth\")\n",
        "\n",
        "        plt.figure(figsize=(10, 5))\n",
        "        plt.subplot(1, 2, 1)\n",
        "        plt.plot(train_losses, label=\"Train Loss\")\n",
        "        plt.plot(val_losses, label=\"Validation Loss\")\n",
        "        plt.xlabel(\"Epochs\")\n",
        "        plt.ylabel(\"Loss\")\n",
        "        plt.legend()\n",
        "\n",
        "        plt.subplot(1, 2, 2)\n",
        "        plt.plot(val_accuracies, label=\"Validation Accuracy\", color=\"green\")\n",
        "        plt.xlabel(\"Epochs\")\n",
        "        plt.ylabel(\"Accuracy\")\n",
        "        plt.legend()\n",
        "\n",
        "        plt.show()\n",
        "\n",
        "    def configure_optimizers(self):\n",
        "        return optim.Adam(self.parameters(), lr=self.lr)\n",
        "\n",
        "    def train_dataloader(self):\n",
        "        return torch.utils.data.DataLoader(\n",
        "            self.train_dataset,\n",
        "            batch_size=self.batch_size,\n",
        "            shuffle=True,\n",
        "            num_workers=8,\n",
        "            persistent_workers=True,\n",
        "        )\n",
        "\n",
        "    def val_dataloader(self):\n",
        "        return torch.utils.data.DataLoader(\n",
        "            self.val_dataset,\n",
        "            batch_size=self.batch_size,\n",
        "            shuffle=False,\n",
        "            num_workers=8,\n",
        "            persistent_workers=True,\n",
        "        )\n",
        "\n",
        "    def test_dataloader(self):\n",
        "        return torch.utils.data.DataLoader(\n",
        "            self.test_dataset,\n",
        "            batch_size=self.batch_size,\n",
        "            shuffle=False,\n",
        "            num_workers=8,\n",
        "            persistent_workers=True,\n",
        "        )"
      ]
    },
    {
      "cell_type": "code",
      "execution_count": 64,
      "metadata": {},
      "outputs": [
        {
          "name": "stderr",
          "output_type": "stream",
          "text": [
            "GPU available: True (cuda), used: True\n",
            "TPU available: False, using: 0 TPU cores\n",
            "HPU available: False, using: 0 HPUs\n",
            "LOCAL_RANK: 0 - CUDA_VISIBLE_DEVICES: [0]\n",
            "\n",
            "  | Name      | Type               | Params | Mode \n",
            "---------------------------------------------------------\n",
            "0 | estimator | ResNet             | 11.2 M | train\n",
            "1 | loss_fn   | CrossEntropyLoss   | 0      | train\n",
            "2 | accuracy  | MulticlassAccuracy | 0      | train\n",
            "---------------------------------------------------------\n",
            "11.2 M    Trainable params\n",
            "0         Non-trainable params\n",
            "11.2 M    Total params\n",
            "44.727    Total estimated model params size (MB)\n",
            "70        Modules in train mode\n",
            "0         Modules in eval mode\n"
          ]
        },
        {
          "name": "stdout",
          "output_type": "stream",
          "text": [
            "Epoch 4: 100%|██████████| 1407/1407 [00:23<00:00, 58.74it/s, v_num=30, train_loss_step=0.497, train_accuracy_step=0.875, val_loss=0.478, val_accuracy=0.849, train_loss_epoch=0.232, train_accuracy_epoch=0.922] "
          ]
        },
        {
          "name": "stderr",
          "output_type": "stream",
          "text": [
            "`Trainer.fit` stopped: `max_epochs=5` reached.\n"
          ]
        },
        {
          "name": "stdout",
          "output_type": "stream",
          "text": [
            "Epoch 4: 100%|██████████| 1407/1407 [00:24<00:00, 57.83it/s, v_num=30, train_loss_step=0.497, train_accuracy_step=0.875, val_loss=0.478, val_accuracy=0.849, train_loss_epoch=0.232, train_accuracy_epoch=0.922]\n"
          ]
        },
        {
          "data": {
            "image/png": "[encoded data removed]",
            "text/plain": [
              "<Figure size 1000x500 with 2 Axes>"
            ]
          },
          "metadata": {},
          "output_type": "display_data"
        }
      ],
      "source": [
        "checkpoint_callback = ModelCheckpoint(monitor=\"val_loss\", mode=\"min\")\n",
        "\n",
        "model = ResNetTransferLearningModel(\"data/cifar10/\", 32, 1e-3)\n",
        "\n",
        "trainer = pl.Trainer(\n",
        "    callbacks=[checkpoint_callback], max_epochs=5, num_sanity_val_steps=0\n",
        ")\n",
        "trainer.fit(model)"
      ]
    },
    {
      "cell_type": "code",
      "execution_count": 65,
      "metadata": {},
      "outputs": [
        {
          "name": "stderr",
          "output_type": "stream",
          "text": [
            "LOCAL_RANK: 0 - CUDA_VISIBLE_DEVICES: [0]\n"
          ]
        },
        {
          "name": "stdout",
          "output_type": "stream",
          "text": [
            "Testing DataLoader 0: 100%|██████████| 313/313 [00:02<00:00, 120.35it/s]\n"
          ]
        },
        {
          "data": {
            "text/html": [
              "<pre style=\"white-space:pre;overflow-x:auto;line-height:normal;font-family:Menlo,'DejaVu Sans Mono',consolas,'Courier New',monospace\">┏━━━━━━━━━━━━━━━━━━━━━━━━━━━┳━━━━━━━━━━━━━━━━━━━━━━━━━━━┓\n",
              "┃<span style=\"font-weight: bold\">        Test metric        </span>┃<span style=\"font-weight: bold\">       DataLoader 0        </span>┃\n",
              "┡━━━━━━━━━━━━━━━━━━━━━━━━━━━╇━━━━━━━━━━━━━━━━━━━━━━━━━━━┩\n",
              "│<span style=\"color: #008080; text-decoration-color: #008080\">       test_accuracy       </span>│<span style=\"color: #800080; text-decoration-color: #800080\">    0.8411999940872192     </span>│\n",
              "│<span style=\"color: #008080; text-decoration-color: #008080\">         test_loss         </span>│<span style=\"color: #800080; text-decoration-color: #800080\">    0.5021271705627441     </span>│\n",
              "└───────────────────────────┴───────────────────────────┘\n",
              "</pre>\n"
            ],
            "text/plain": [
              "┏━━━━━━━━━━━━━━━━━━━━━━━━━━━┳━━━━━━━━━━━━━━━━━━━━━━━━━━━┓\n",
              "┃\u001b[1m \u001b[0m\u001b[1m       Test metric       \u001b[0m\u001b[1m \u001b[0m┃\u001b[1m \u001b[0m\u001b[1m      DataLoader 0       \u001b[0m\u001b[1m \u001b[0m┃\n",
              "┡━━━━━━━━━━━━━━━━━━━━━━━━━━━╇━━━━━━━━━━━━━━━━━━━━━━━━━━━┩\n",
              "│\u001b[36m \u001b[0m\u001b[36m      test_accuracy      \u001b[0m\u001b[36m \u001b[0m│\u001b[35m \u001b[0m\u001b[35m   0.8411999940872192    \u001b[0m\u001b[35m \u001b[0m│\n",
              "│\u001b[36m \u001b[0m\u001b[36m        test_loss        \u001b[0m\u001b[36m \u001b[0m│\u001b[35m \u001b[0m\u001b[35m   0.5021271705627441    \u001b[0m\u001b[35m \u001b[0m│\n",
              "└───────────────────────────┴───────────────────────────┘\n"
            ]
          },
          "metadata": {},
          "output_type": "display_data"
        },
        {
          "data": {
            "text/plain": [
              "[{'test_loss': 0.5021271705627441, 'test_accuracy': 0.8411999940872192}]"
            ]
          },
          "execution_count": 65,
          "metadata": {},
          "output_type": "execute_result"
        }
      ],
      "source": [
        "# Evaluate the model on the test set\n",
        "trainer.test(model=model, dataloaders=model.test_dataloader())"
      ]
    }
  ],
  "metadata": {
    "colab": {
      "provenance": []
    },
    "kernelspec": {
      "display_name": ".venv",
      "language": "python",
      "name": "python3"
    },
    "language_info": {
      "codemirror_mode": {
        "name": "ipython",
        "version": 3
      },
      "file_extension": ".py",
      "mimetype": "text/x-python",
      "name": "python",
      "nbconvert_exporter": "python",
      "pygments_lexer": "ipython3",
      "version": "3.12.7"
    }
  },
  "nbformat": 4,
  "nbformat_minor": 0
}
