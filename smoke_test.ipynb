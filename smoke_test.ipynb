{
  "cells": [
    {
      "cell_type": "markdown",
      "metadata": {
        "id": "0U2HphIV3QCO"
      },
      "source": [
        "# Bailey's Smoke Test\n",
        "\n",
        "Using local machine with RTX 3080, CUDA 12.8, and python 3.12.7\n",
        "\n",
        "Installed pytorch using `pip3 install torch torchvision torchaudio --index-url https://download.pytorch.org/whl/cu126`"
      ]
    },
    {
      "cell_type": "code",
      "execution_count": 10,
      "metadata": {},
      "outputs": [
        {
          "name": "stdout",
          "output_type": "stream",
          "text": [
            "CUDA is available!\n",
            "CUDA Device Count: 1\n",
            "Current CUDA Device: 0\n",
            "Device Name: NVIDIA GeForce RTX 3080\n"
          ]
        }
      ],
      "source": [
        "import torch\n",
        "\n",
        "\n",
        "def is_cuda_available():\n",
        "    return torch.cuda.is_available()\n",
        "\n",
        "\n",
        "if __name__ == \"__main__\":\n",
        "    if is_cuda_available():\n",
        "        print(\"CUDA is available!\")\n",
        "        print(f\"CUDA Device Count: {torch.cuda.device_count()}\")\n",
        "        print(f\"Current CUDA Device: {torch.cuda.current_device()}\")\n",
        "        print(f\"Device Name: {torch.cuda.get_device_name(torch.cuda.current_device())}\")\n",
        "    else:\n",
        "        print(\"CUDA is not available.\")"
      ]
    },
    {
      "cell_type": "code",
      "execution_count": 11,
      "metadata": {
        "colab": {
          "base_uri": "https://localhost:8080/",
          "height": 383
        },
        "id": "JIH6e96Z3QCP",
        "outputId": "b391d6d2-57cd-495e-c731-f95f2e12122d"
      },
      "outputs": [],
      "source": [
        "import torch\n",
        "from torch import nn\n",
        "import torch.nn.functional as F\n",
        "import lightning as L\n",
        "import torchmetrics\n",
        "\n",
        "\n",
        "class BaselineModel(L.LightningModule):\n",
        "    def __init__(self, num_classes=10):\n",
        "        super().__init__()\n",
        "\n",
        "        self.estimator = nn.Sequential(\n",
        "            nn.Linear(64 * 64, 1024),\n",
        "            nn.ReLU(),\n",
        "            nn.Linear(1024, 512),\n",
        "            nn.ReLU(),\n",
        "            nn.Linear(512, 128),\n",
        "            nn.ReLU(),\n",
        "            nn.Linear(128, num_classes),\n",
        "        )\n",
        "\n",
        "        self.accuracy = torchmetrics.Accuracy(\n",
        "            task=\"multiclass\", num_classes=num_classes\n",
        "        )\n",
        "\n",
        "    def forward(self, x):\n",
        "        x = x.view(x.shape[0], -1)\n",
        "\n",
        "        return self.estimator(x)\n",
        "\n",
        "    def training_step(self, batch, batch_idx):\n",
        "        x, y = batch\n",
        "        y_hat = self(x)\n",
        "        loss = F.cross_entropy(y_hat, y)\n",
        "\n",
        "        self.log(\"train_loss\", loss)\n",
        "        return loss\n",
        "\n",
        "    def validation_step(self, batch, batch_idx):\n",
        "        x, y = batch\n",
        "        y_hat = self(x)\n",
        "        loss = F.cross_entropy(y_hat, y)\n",
        "\n",
        "        self.accuracy(y_hat, y)\n",
        "\n",
        "        self.log(\"val_accuracy\", self.accuracy)\n",
        "        self.log(\"val_loss\", loss)\n",
        "\n",
        "    def test_step(self, batch, batch_idx):\n",
        "        x, y = batch\n",
        "        y_hat = self(x)\n",
        "        loss = F.cross_entropy(y_hat, y)\n",
        "\n",
        "        self.accuracy(y_hat, y)\n",
        "\n",
        "        self.log(\"test_accuracy\", self.accuracy)\n",
        "        self.log(\"test_loss\", loss)\n",
        "\n",
        "    def configure_optimizers(self):\n",
        "        optimizer = torch.optim.Adam(self.parameters(), lr=1e-3)\n",
        "        return optimizer"
      ]
    },
    {
      "cell_type": "markdown",
      "metadata": {
        "id": "KXieKV-w3QCQ"
      },
      "source": [
        "The Imagenette dataset is a smaller subset of 10 easily classified classes from Imagenet. It is available to download from `torchvision`, as shown in the cell below. There are 3 different sizes of the images available. Feel free to use whichever version you prefer. It might make a difference in the performance of your model.\n",
        "\n",
        "**Note: After downloading the Imagenette dataset, you will need to set `download=False` in the cell below to avoid errors.**"
      ]
    },
    {
      "cell_type": "code",
      "execution_count": 12,
      "metadata": {
        "id": "6QNN_j8t3QCQ",
        "outputId": "107e6e6d-7a34-40e8-fdb2-1f7e47c05444"
      },
      "outputs": [],
      "source": [
        "from torchvision import transforms\n",
        "from torchvision.datasets import Imagenette\n",
        "from lightning.pytorch.callbacks.early_stopping import EarlyStopping\n",
        "from lightning.pytorch.callbacks import ModelCheckpoint\n",
        "\n",
        "\n",
        "# Prepare the dataset\n",
        "train_transforms = transforms.Compose(\n",
        "    [\n",
        "        transforms.CenterCrop(160),\n",
        "        transforms.Resize(64),\n",
        "        transforms.ToTensor(),\n",
        "        transforms.Normalize((0.4914, 0.4822, 0.4465), (0.2470, 0.2435, 0.2616)),\n",
        "        transforms.Grayscale(),\n",
        "    ]\n",
        ")\n",
        "\n",
        "test_transforms = transforms.Compose(\n",
        "    [\n",
        "        transforms.CenterCrop(160),\n",
        "        transforms.Resize(64),\n",
        "        transforms.ToTensor(),\n",
        "        transforms.Normalize((0.4914, 0.4822, 0.4465), (0.2470, 0.2435, 0.2616)),\n",
        "        transforms.Grayscale(),\n",
        "    ]\n",
        ")\n",
        "\n",
        "train_dataset = Imagenette(\n",
        "    \"data/imagenette/train/\",\n",
        "    split=\"train\",\n",
        "    size=\"160px\",\n",
        "    download=False,\n",
        "    transform=train_transforms,\n",
        ")\n",
        "\n",
        "\n",
        "# Use 10% of the training set for validation\n",
        "train_set_size = int(len(train_dataset) * 0.9)\n",
        "val_set_size = len(train_dataset) - train_set_size\n",
        "\n",
        "seed = torch.Generator().manual_seed(42)\n",
        "train_dataset, val_dataset = torch.utils.data.random_split(\n",
        "    train_dataset, [train_set_size, val_set_size], generator=seed\n",
        ")\n",
        "val_dataset.dataset.transform = test_transforms\n",
        "\n",
        "# Use DataLoader to load the dataset\n",
        "train_loader = torch.utils.data.DataLoader(\n",
        "    train_dataset, batch_size=128, num_workers=8, shuffle=True, persistent_workers=True\n",
        ")\n",
        "val_loader = torch.utils.data.DataLoader(\n",
        "    val_dataset, batch_size=128, num_workers=8, shuffle=False, persistent_workers=True\n",
        ")\n",
        "\n",
        "\n",
        "# Configure the test dataset\n",
        "test_dataset = Imagenette(\n",
        "    \"data/imagenette/test/\",\n",
        "    split=\"val\",\n",
        "    size=\"160px\",\n",
        "    download=False,\n",
        "    transform=test_transforms,\n",
        ")\n",
        "\n",
        "model = BaselineModel()\n",
        "\n",
        "# Add EarlyStopping\n",
        "early_stop_callback = EarlyStopping(monitor=\"val_loss\", mode=\"min\", patience=5)\n",
        "\n",
        "# Configure Checkpoints\n",
        "checkpoint_callback = ModelCheckpoint(monitor=\"val_loss\", mode=\"min\")"
      ]
    },
    {
      "cell_type": "code",
      "execution_count": 13,
      "metadata": {
        "colab": {
          "referenced_widgets": [
            "77efda4c66d340c5af54b8957d8cb12d",
            "a3240dc96427474598dc85be9e0a18a0",
            "6339620d653a4a4eb8227fecc351707c",
            "0ae5de5d8cc44de8a46257f2c5c00f86"
          ]
        },
        "id": "JinwQAQL3QCR",
        "outputId": "abfbcfff-baf7-4206-c798-2a9a0c6f1b82"
      },
      "outputs": [
        {
          "name": "stderr",
          "output_type": "stream",
          "text": [
            "GPU available: True (cuda), used: True\n",
            "TPU available: False, using: 0 TPU cores\n",
            "HPU available: False, using: 0 HPUs\n",
            "LOCAL_RANK: 0 - CUDA_VISIBLE_DEVICES: [0]\n",
            "\n",
            "  | Name      | Type               | Params | Mode \n",
            "---------------------------------------------------------\n",
            "0 | estimator | Sequential         | 4.8 M  | train\n",
            "1 | accuracy  | MulticlassAccuracy | 0      | train\n",
            "---------------------------------------------------------\n",
            "4.8 M     Trainable params\n",
            "0         Non-trainable params\n",
            "4.8 M     Total params\n",
            "19.148    Total estimated model params size (MB)\n",
            "9         Modules in train mode\n",
            "0         Modules in eval mode\n"
          ]
        },
        {
          "name": "stdout",
          "output_type": "stream",
          "text": [
            "Epoch 8: 100%|██████████| 67/67 [00:03<00:00, 21.27it/s, v_num=3]           \n"
          ]
        }
      ],
      "source": [
        "# Fit the model\n",
        "trainer = L.Trainer(\n",
        "    callbacks=[early_stop_callback, checkpoint_callback], max_epochs=1000\n",
        ")\n",
        "trainer.fit(model=model, train_dataloaders=train_loader, val_dataloaders=val_loader)"
      ]
    },
    {
      "cell_type": "code",
      "execution_count": 14,
      "metadata": {
        "id": "KGEFGZry3QCR"
      },
      "outputs": [
        {
          "name": "stderr",
          "output_type": "stream",
          "text": [
            "LOCAL_RANK: 0 - CUDA_VISIBLE_DEVICES: [0]\n",
            "c:\\Users\\baile\\Documents\\GitHub\\cse6363-assignment3\\.venv\\Lib\\site-packages\\lightning\\pytorch\\trainer\\connectors\\data_connector.py:420: Consider setting `persistent_workers=True` in 'test_dataloader' to speed up the dataloader worker initialization.\n"
          ]
        },
        {
          "name": "stdout",
          "output_type": "stream",
          "text": [
            "Testing DataLoader 0: 100%|██████████| 16/16 [00:02<00:00,  6.65it/s]\n",
            "────────────────────────────────────────────────────────────────────────────────────────────────────────────────────────\n",
            "       Test metric             DataLoader 0\n",
            "────────────────────────────────────────────────────────────────────────────────────────────────────────────────────────\n",
            "      test_accuracy         0.3431847095489502\n",
            "        test_loss           2.4833033084869385\n",
            "────────────────────────────────────────────────────────────────────────────────────────────────────────────────────────\n"
          ]
        },
        {
          "data": {
            "text/plain": [
              "[{'test_accuracy': 0.3431847095489502, 'test_loss': 2.4833033084869385}]"
            ]
          },
          "execution_count": 14,
          "metadata": {},
          "output_type": "execute_result"
        }
      ],
      "source": [
        "# Evaluate the model on the test set\n",
        "test_loader = torch.utils.data.DataLoader(\n",
        "    test_dataset, batch_size=256, num_workers=8, shuffle=False\n",
        ")\n",
        "trainer.test(model=model, dataloaders=test_loader)"
      ]
    }
  ],
  "metadata": {
    "colab": {
      "provenance": []
    },
    "kernelspec": {
      "display_name": ".venv",
      "language": "python",
      "name": "python3"
    },
    "language_info": {
      "codemirror_mode": {
        "name": "ipython",
        "version": 3
      },
      "file_extension": ".py",
      "mimetype": "text/x-python",
      "name": "python",
      "nbconvert_exporter": "python",
      "pygments_lexer": "ipython3",
      "version": "3.12.7"
    }
  },
  "nbformat": 4,
  "nbformat_minor": 0
}
